{
 "cells": [
  {
   "cell_type": "markdown",
   "id": "d09f794f-c4fc-40e4-b7e5-1d7fe12d8ddf",
   "metadata": {},
   "source": [
    "# Retrieval with FastEmbed\n",
    "\n",
    "This notebook demonstrates the basic usage of Fastembed to perform vector search and retrieval."
   ]
  },
  {
   "cell_type": "code",
   "execution_count": 1,
   "id": "8bb64579-ac54-4e5b-8f2f-4cf27b74daf3",
   "metadata": {},
   "outputs": [],
   "source": [
    "from typing import List\n",
    "import numpy as np\n",
    "from fastembed.embedding import FlagEmbedding as Embedding"
   ]
  },
  {
   "cell_type": "markdown",
   "id": "dd25d249-b7f6-450b-a40b-3b4714ae8810",
   "metadata": {},
   "source": [
    "## Data Preparation\n",
    "💡 Tip: Prefer using query_embed for queries and passage_embed for documents."
   ]
  },
  {
   "cell_type": "code",
   "execution_count": 2,
   "id": "18e5276a-1986-44bb-9efb-b7acd2733d0c",
   "metadata": {},
   "outputs": [
    {
     "name": "stdout",
     "output_type": "stream",
     "text": [
      "(384,) 10\n"
     ]
    }
   ],
   "source": [
    "# Example list of documents\n",
    "documents: List[str] = [\n",
    "    \"Maharana Pratap was a Rajput warrior king from Mewar\",\n",
    "    \"He fought against the Mughal Empire led by Akbar\",\n",
    "    \"The Battle of Haldighati in 1576 was his most famous battle\",\n",
    "    \"He refused to submit to Akbar and continued guerrilla warfare\",\n",
    "    \"His capital was Chittorgarh, which he lost to the Mughals\",\n",
    "    \"He died in 1597 at the age of 57\",\n",
    "    \"Maharana Pratap is considered a symbol of Rajput resistance against foreign rule\",\n",
    "    \"His legacy is celebrated in Rajasthan through festivals and monuments\",\n",
    "    \"He had 11 wives and 17 sons, including Amar Singh I who succeeded him as ruler of Mewar\",\n",
    "    \"His life has been depicted in various films, TV shows, and books\",\n",
    "]\n",
    "# Initialize the DefaultEmbedding class with the desired parameters\n",
    "embedding_model = Embedding(model_name=\"BAAI/bge-small-en\", max_length=512)\n",
    "\n",
    "# We'll use the passage_embed method to get the embeddings for the documents\n",
    "embeddings: List[np.ndarray] = list(\n",
    "    embedding_model.passage_embed(documents)\n",
    ")  # notice that we are casting the generator to a list\n",
    "\n",
    "print(embeddings[0].shape, len(embeddings))"
   ]
  },
  {
   "cell_type": "markdown",
   "id": "5dc345f9-4e7f-4c66-8d35-08698f311546",
   "metadata": {},
   "source": [
    "## Querying"
   ]
  },
  {
   "cell_type": "code",
   "execution_count": 3,
   "id": "4ef4df48-ed81-4cde-9b1b-d311c0f3bb71",
   "metadata": {},
   "outputs": [
    {
     "name": "stdout",
     "output_type": "stream",
     "text": [
      "CPU times: user 45 ms, sys: 2.5 ms, total: 47.5 ms\n",
      "Wall time: 29.6 ms\n"
     ]
    },
    {
     "data": {
      "text/plain": [
       "((384,), (384,))"
      ]
     },
     "execution_count": 3,
     "metadata": {},
     "output_type": "execute_result"
    }
   ],
   "source": [
    "%%time\n",
    "\n",
    "query = \"Who was Maharana Pratap?\"\n",
    "query_embedding = list(embedding_model.query_embed(query))[0]\n",
    "plain_query_embedding = list(embedding_model.embed(query))[0]\n",
    "\n",
    "query_embedding.shape, plain_query_embedding.shape"
   ]
  },
  {
   "cell_type": "code",
   "execution_count": 4,
   "id": "204b0ed3-91cc-402e-bf62-cb49dd7d1281",
   "metadata": {},
   "outputs": [],
   "source": [
    "def print_top_k(query_embedding, embeddings, documents, k=5):\n",
    "    # use numpy to calculate the cosine similarity between the query and the documents\n",
    "    scores = np.dot(embeddings, query_embedding)\n",
    "    # sort the scores in descending order\n",
    "    sorted_scores = np.argsort(scores)[::-1]\n",
    "    # print the top 5\n",
    "    for i in range(k):\n",
    "        print(f\"Rank {i+1}: {documents[sorted_scores[i]]}\")"
   ]
  },
  {
   "cell_type": "code",
   "execution_count": 5,
   "id": "392645dd-a8e6-44ba-abc6-c054fb3c47d6",
   "metadata": {},
   "outputs": [
    {
     "data": {
      "text/plain": [
       "32"
      ]
     },
     "execution_count": 5,
     "metadata": {},
     "output_type": "execute_result"
    }
   ],
   "source": [
    "# 1 * 4 + 2 * 5 + 3 * 6\n",
    "np.dot([1,2,3], [4,5,6])"
   ]
  },
  {
   "cell_type": "code",
   "execution_count": 6,
   "id": "62711d1d-7fbe-44d5-b03e-970b95d34fa4",
   "metadata": {},
   "outputs": [
    {
     "data": {
      "text/plain": [
       "2"
      ]
     },
     "execution_count": 6,
     "metadata": {},
     "output_type": "execute_result"
    }
   ],
   "source": [
    "np.argmax([0.1, 0.2, 0.5, 0.3])"
   ]
  },
  {
   "cell_type": "code",
   "execution_count": 7,
   "id": "43c229e1-388e-46ef-8a97-e8caf8ebb433",
   "metadata": {},
   "outputs": [
    {
     "data": {
      "text/plain": [
       "array([0, 1, 3, 2])"
      ]
     },
     "execution_count": 7,
     "metadata": {},
     "output_type": "execute_result"
    }
   ],
   "source": [
    "np.argsort([0.1, 0.2, 0.5, 0.3])"
   ]
  },
  {
   "cell_type": "code",
   "execution_count": 8,
   "id": "59b65bba-4837-4e8f-a8b5-7505b2899334",
   "metadata": {},
   "outputs": [
    {
     "name": "stdout",
     "output_type": "stream",
     "text": [
      "Rank 1: Maharana Pratap was a Rajput warrior king from Mewar\n",
      "Rank 2: Maharana Pratap is considered a symbol of Rajput resistance against foreign rule\n",
      "Rank 3: His legacy is celebrated in Rajasthan through festivals and monuments\n",
      "Rank 4: He had 11 wives and 17 sons, including Amar Singh I who succeeded him as ruler of Mewar\n",
      "Rank 5: He fought against the Mughal Empire led by Akbar\n"
     ]
    }
   ],
   "source": [
    "print_top_k(query_embedding, embeddings, documents)"
   ]
  },
  {
   "cell_type": "code",
   "execution_count": 9,
   "id": "2e3b1601-1e1b-49b1-afad-d483fa5c8003",
   "metadata": {},
   "outputs": [
    {
     "name": "stdout",
     "output_type": "stream",
     "text": [
      "Rank 1: Maharana Pratap was a Rajput warrior king from Mewar\n",
      "Rank 2: Maharana Pratap is considered a symbol of Rajput resistance against foreign rule\n",
      "Rank 3: His legacy is celebrated in Rajasthan through festivals and monuments\n",
      "Rank 4: He had 11 wives and 17 sons, including Amar Singh I who succeeded him as ruler of Mewar\n",
      "Rank 5: He fought against the Mughal Empire led by Akbar\n"
     ]
    }
   ],
   "source": [
    "print_top_k(plain_query_embedding, embeddings, documents)"
   ]
  },
  {
   "cell_type": "code",
   "execution_count": 10,
   "id": "1a67bd06-fa2e-454a-b650-91d4dfd315cb",
   "metadata": {},
   "outputs": [
    {
     "data": {
      "text/plain": [
       "0.95818377"
      ]
     },
     "execution_count": 10,
     "metadata": {},
     "output_type": "execute_result"
    }
   ],
   "source": [
    "np.dot(query_embedding, plain_query_embedding)"
   ]
  },
  {
   "cell_type": "markdown",
   "id": "f7ce9a65-d652-448a-b448-43f6069dfb2a",
   "metadata": {},
   "source": [
    "## Evaluation"
   ]
  },
  {
   "cell_type": "code",
   "execution_count": 11,
   "id": "356960be-3451-4517-8132-e69db17b1178",
   "metadata": {},
   "outputs": [
    {
     "name": "stderr",
     "output_type": "stream",
     "text": [
      "/Users/alextanhongpin/Documents/python/python-fastembed/.venv/lib/python3.11/site-packages/tqdm/auto.py:21: TqdmWarning: IProgress not found. Please update jupyter and ipywidgets. See https://ipywidgets.readthedocs.io/en/stable/user_install.html\n",
      "  from .autonotebook import tqdm as notebook_tqdm\n"
     ]
    },
    {
     "name": "stdout",
     "output_type": "stream",
     "text": [
      "huggingface/tokenizers: The current process just got forked, after parallelism has already been used. Disabling parallelism to avoid deadlocks...\n",
      "To disable this warning, you can either:\n",
      "\t- Avoid using `tokenizers` before the fork if possible\n",
      "\t- Explicitly set the environment variable TOKENIZERS_PARALLELISM=(true | false)\n"
     ]
    },
    {
     "data": {
      "text/plain": [
       "['BUCC',\n",
       " 'BornholmBitextMining',\n",
       " 'Tatoeba',\n",
       " 'AmazonCounterfactualClassification',\n",
       " 'AmazonPolarityClassification',\n",
       " 'AmazonReviewsClassification',\n",
       " 'AngryTweetsClassification',\n",
       " 'Banking77Classification',\n",
       " 'DalajClassification',\n",
       " 'DanishPoliticalCommentsClassification',\n",
       " 'DKHateClassification',\n",
       " 'EmotionClassification',\n",
       " 'ImdbClassification',\n",
       " 'LccSentimentClassification',\n",
       " 'MassiveIntentClassification',\n",
       " 'MassiveScenarioClassification',\n",
       " 'MTOPDomainClassification',\n",
       " 'MTOPIntentClassification',\n",
       " 'NoRecClassification',\n",
       " 'NordicLangClassification',\n",
       " 'NorwegianParliament',\n",
       " 'ScalaDaClassification',\n",
       " 'ScalaNbClassification',\n",
       " 'ScalaNbClassification',\n",
       " 'ScalaSvClassification',\n",
       " 'SweRecClassification',\n",
       " 'ToxicConversationsClassification',\n",
       " 'TweetSentimentExtractionClassification',\n",
       " 'TNews',\n",
       " 'IFlyTek',\n",
       " 'MultilingualSentiment',\n",
       " 'JDReview',\n",
       " 'OnlineShopping',\n",
       " 'Waimai',\n",
       " 'CBD',\n",
       " 'PolEmo2.0-IN',\n",
       " 'PolEmo2.0-OUT',\n",
       " 'AllegroReviews',\n",
       " 'PAC',\n",
       " 'ArxivClusteringP2P',\n",
       " 'ArxivClusteringS2S',\n",
       " 'BiorxivClusteringP2P',\n",
       " 'BiorxivClusteringS2S',\n",
       " 'BlurbsClusteringP2P',\n",
       " 'BlurbsClusteringS2S',\n",
       " 'MedrxivClusteringP2P',\n",
       " 'MedrxivClusteringS2S',\n",
       " 'RedditClustering',\n",
       " 'RedditClusteringP2P',\n",
       " 'StackExchangeClustering',\n",
       " 'StackExchangeClusteringP2P',\n",
       " 'TenKGnadClusteringP2P',\n",
       " 'TenKGnadClusteringS2S',\n",
       " 'TwentyNewsgroupsClustering',\n",
       " 'CLSClusteringS2S',\n",
       " 'CLSClusteringP2P',\n",
       " 'ThuNewsClusteringS2S',\n",
       " 'ThuNewsClusteringP2P',\n",
       " '8TagsClustering',\n",
       " 'SprintDuplicateQuestions',\n",
       " 'TwitterSemEval2015',\n",
       " 'TwitterURLCorpus',\n",
       " 'Ocnli',\n",
       " 'Cmnli',\n",
       " 'SICK-E-PL',\n",
       " 'PPC',\n",
       " 'CDSC-E',\n",
       " 'PSC',\n",
       " 'AskUbuntuDupQuestions',\n",
       " 'MindSmallReranking',\n",
       " 'SciDocsRR',\n",
       " 'StackOverflowDupQuestions',\n",
       " 'T2Reranking',\n",
       " 'MMarcoReranking',\n",
       " 'CMedQAv1',\n",
       " 'CMedQAv2',\n",
       " 'ArguAna',\n",
       " 'ClimateFEVER',\n",
       " 'CQADupstackAndroidRetrieval',\n",
       " 'CQADupstackEnglishRetrieval',\n",
       " 'CQADupstackGamingRetrieval',\n",
       " 'CQADupstackGisRetrieval',\n",
       " 'CQADupstackMathematicaRetrieval',\n",
       " 'CQADupstackPhysicsRetrieval',\n",
       " 'CQADupstackProgrammersRetrieval',\n",
       " 'CQADupstackStatsRetrieval',\n",
       " 'CQADupstackTexRetrieval',\n",
       " 'CQADupstackUnixRetrieval',\n",
       " 'CQADupstackWebmastersRetrieval',\n",
       " 'CQADupstackWordpressRetrieval',\n",
       " 'DBPedia',\n",
       " 'FEVER',\n",
       " 'FiQA2018',\n",
       " 'HotpotQA',\n",
       " 'MSMARCO',\n",
       " 'MSMARCOv2',\n",
       " 'NFCorpus',\n",
       " 'NQ',\n",
       " 'QuoraRetrieval',\n",
       " 'SCIDOCS',\n",
       " 'SciFact',\n",
       " 'Touche2020',\n",
       " 'TRECCOVID',\n",
       " 'T2Retrieval',\n",
       " 'MMarcoRetrieval',\n",
       " 'DuRetrieval',\n",
       " 'CovidRetrieval',\n",
       " 'CmedqaRetrieval',\n",
       " 'EcomRetrieval',\n",
       " 'MedicalRetrieval',\n",
       " 'VideoRetrieval',\n",
       " 'ArguAna-PL',\n",
       " 'DBPedia-PL',\n",
       " 'FiQA-PL',\n",
       " 'HotpotQA-PL',\n",
       " 'MSMARCO-PL',\n",
       " 'NFCorpus-PL',\n",
       " 'NQ-PL',\n",
       " 'Quora-PL',\n",
       " 'SCIDOCS-PL',\n",
       " 'SciFact-PL',\n",
       " 'TRECCOVID-PL',\n",
       " 'BIOSSES',\n",
       " 'SICK-R',\n",
       " 'STS12',\n",
       " 'STS13',\n",
       " 'STS14',\n",
       " 'STS15',\n",
       " 'STS16',\n",
       " 'STS17',\n",
       " 'STS22',\n",
       " 'STSBenchmark',\n",
       " 'ATEC',\n",
       " 'BQ',\n",
       " 'LCQMC',\n",
       " 'PAWSX',\n",
       " 'STSB',\n",
       " 'AFQMC',\n",
       " 'QBQTC',\n",
       " 'SICK-R-PL',\n",
       " 'CDSC-R']"
      ]
     },
     "execution_count": 11,
     "metadata": {},
     "output_type": "execute_result"
    }
   ],
   "source": [
    "from mteb import MTEB\n",
    "\n",
    "MTEB().available_tasks"
   ]
  },
  {
   "cell_type": "code",
   "execution_count": 28,
   "id": "a433905b-47a8-4617-9660-da3146568aab",
   "metadata": {},
   "outputs": [
    {
     "data": {
      "text/html": [
       "<pre style=\"white-space:pre;overflow-x:auto;line-height:normal;font-family:Menlo,'DejaVu Sans Mono',consolas,'Courier New',monospace\"><span style=\"color: #262626; text-decoration-color: #262626\">───────────────────────────────────────────────── </span><span style=\"font-weight: bold\">Selected tasks </span><span style=\"color: #262626; text-decoration-color: #262626\"> ─────────────────────────────────────────────────</span>\n",
       "</pre>\n"
      ],
      "text/plain": [
       "\u001b[38;5;235m───────────────────────────────────────────────── \u001b[0m\u001b[1mSelected tasks \u001b[0m\u001b[38;5;235m ─────────────────────────────────────────────────\u001b[0m\n"
      ]
     },
     "metadata": {},
     "output_type": "display_data"
    },
    {
     "data": {
      "text/html": [
       "<pre style=\"white-space:pre;overflow-x:auto;line-height:normal;font-family:Menlo,'DejaVu Sans Mono',consolas,'Courier New',monospace\"><span style=\"font-weight: bold\">Classification</span>\n",
       "</pre>\n"
      ],
      "text/plain": [
       "\u001b[1mClassification\u001b[0m\n"
      ]
     },
     "metadata": {},
     "output_type": "display_data"
    },
    {
     "data": {
      "text/html": [
       "<pre style=\"white-space:pre;overflow-x:auto;line-height:normal;font-family:Menlo,'DejaVu Sans Mono',consolas,'Courier New',monospace\">    - Banking77Classification, <span style=\"color: #626262; text-decoration-color: #626262; font-style: italic\">s2s</span>\n",
       "</pre>\n"
      ],
      "text/plain": [
       "    - Banking77Classification, \u001b[3;38;5;241ms2s\u001b[0m\n"
      ]
     },
     "metadata": {},
     "output_type": "display_data"
    },
    {
     "data": {
      "text/html": [
       "<pre style=\"white-space:pre;overflow-x:auto;line-height:normal;font-family:Menlo,'DejaVu Sans Mono',consolas,'Courier New',monospace\">\n",
       "\n",
       "</pre>\n"
      ],
      "text/plain": [
       "\n",
       "\n"
      ]
     },
     "metadata": {},
     "output_type": "display_data"
    },
    {
     "name": "stdout",
     "output_type": "stream",
     "text": [
      "huggingface/tokenizers: The current process just got forked, after parallelism has already been used. Disabling parallelism to avoid deadlocks...\n",
      "To disable this warning, you can either:\n",
      "\t- Avoid using `tokenizers` before the fork if possible\n",
      "\t- Explicitly set the environment variable TOKENIZERS_PARALLELISM=(true | false)\n",
      "huggingface/tokenizers: The current process just got forked, after parallelism has already been used. Disabling parallelism to avoid deadlocks...\n",
      "To disable this warning, you can either:\n",
      "\t- Avoid using `tokenizers` before the fork if possible\n",
      "\t- Explicitly set the environment variable TOKENIZERS_PARALLELISM=(true | false)\n",
      "huggingface/tokenizers: The current process just got forked, after parallelism has already been used. Disabling parallelism to avoid deadlocks...\n",
      "To disable this warning, you can either:\n",
      "\t- Avoid using `tokenizers` before the fork if possible\n",
      "\t- Explicitly set the environment variable TOKENIZERS_PARALLELISM=(true | false)\n",
      "huggingface/tokenizers: The current process just got forked, after parallelism has already been used. Disabling parallelism to avoid deadlocks...\n",
      "To disable this warning, you can either:\n",
      "\t- Avoid using `tokenizers` before the fork if possible\n",
      "\t- Explicitly set the environment variable TOKENIZERS_PARALLELISM=(true | false)\n"
     ]
    }
   ],
   "source": [
    "from sentence_transformers import SentenceTransformer\n",
    "\n",
    "model_name = \"BAAI/bge-small-en\"\n",
    "model = SentenceTransformer(model_name)\n",
    "\n",
    "evaluation = MTEB(tasks=[\"Banking77Classification\"])\n",
    "results = evaluation.run(model, output_folder=f\"results/{model_name}\")"
   ]
  },
  {
   "cell_type": "code",
   "execution_count": 15,
   "id": "3dd470e0-1c70-4de1-ae47-4865a00b22fa",
   "metadata": {},
   "outputs": [
    {
     "data": {
      "text/html": [
       "<pre style=\"white-space:pre;overflow-x:auto;line-height:normal;font-family:Menlo,'DejaVu Sans Mono',consolas,'Courier New',monospace\"><span style=\"color: #262626; text-decoration-color: #262626\">───────────────────────────────────────────────── </span><span style=\"font-weight: bold\">Selected tasks </span><span style=\"color: #262626; text-decoration-color: #262626\"> ─────────────────────────────────────────────────</span>\n",
       "</pre>\n"
      ],
      "text/plain": [
       "\u001b[38;5;235m───────────────────────────────────────────────── \u001b[0m\u001b[1mSelected tasks \u001b[0m\u001b[38;5;235m ─────────────────────────────────────────────────\u001b[0m\n"
      ]
     },
     "metadata": {},
     "output_type": "display_data"
    },
    {
     "data": {
      "text/html": [
       "<pre style=\"white-space:pre;overflow-x:auto;line-height:normal;font-family:Menlo,'DejaVu Sans Mono',consolas,'Courier New',monospace\"><span style=\"font-weight: bold\">Classification</span>\n",
       "</pre>\n"
      ],
      "text/plain": [
       "\u001b[1mClassification\u001b[0m\n"
      ]
     },
     "metadata": {},
     "output_type": "display_data"
    },
    {
     "data": {
      "text/html": [
       "<pre style=\"white-space:pre;overflow-x:auto;line-height:normal;font-family:Menlo,'DejaVu Sans Mono',consolas,'Courier New',monospace\">    - Banking77Classification, <span style=\"color: #626262; text-decoration-color: #626262; font-style: italic\">s2s</span>\n",
       "</pre>\n"
      ],
      "text/plain": [
       "    - Banking77Classification, \u001b[3;38;5;241ms2s\u001b[0m\n"
      ]
     },
     "metadata": {},
     "output_type": "display_data"
    },
    {
     "data": {
      "text/html": [
       "<pre style=\"white-space:pre;overflow-x:auto;line-height:normal;font-family:Menlo,'DejaVu Sans Mono',consolas,'Courier New',monospace\">\n",
       "\n",
       "</pre>\n"
      ],
      "text/plain": [
       "\n",
       "\n"
      ]
     },
     "metadata": {},
     "output_type": "display_data"
    }
   ],
   "source": [
    "model_name = \"sentence-transformers/all-MiniLM-L6-v2\"\n",
    "model = SentenceTransformer(model_name)\n",
    "\n",
    "evaluation = MTEB(tasks=[\"Banking77Classification\"])\n",
    "results = evaluation.run(model, output_folder=f\"results/{model_name}\")"
   ]
  },
  {
   "cell_type": "code",
   "execution_count": 30,
   "id": "f235c6f6-b5f3-48a4-9f30-2b9b5a2f38d9",
   "metadata": {},
   "outputs": [
    {
     "name": "stdout",
     "output_type": "stream",
     "text": [
      "results/BAAI/bge-small-en/Banking77Classification.json\n",
      "{\n",
      "  \"dataset_revision\": \"0fd18e25b25c072e09e0d92ab615fda904d66300\",\n",
      "  \"mteb_dataset_name\": \"Banking77Classification\",\n",
      "  \"mteb_version\": \"1.1.1\",\n",
      "  \"test\": {\n",
      "    \"accuracy\": 0.795422077922078,\n",
      "    \"accuracy_stderr\": 0.006097416428071673,\n",
      "    \"evaluation_time\": 131.81,\n",
      "    \"f1\": 0.7850062896493155,\n",
      "    \"f1_stderr\": 0.0068895723757598165,\n",
      "    \"main_score\": 0.795422077922078\n",
      "  }\n",
      "}\n",
      "results/sentence-transformers/all-MiniLM-L6-v2/Banking77Classification.json\n",
      "{\n",
      "  \"dataset_revision\": \"0fd18e25b25c072e09e0d92ab615fda904d66300\",\n",
      "  \"mteb_dataset_name\": \"Banking77Classification\",\n",
      "  \"mteb_version\": \"1.1.1\",\n",
      "  \"test\": {\n",
      "    \"accuracy\": 0.8006168831168832,\n",
      "    \"accuracy_stderr\": 0.00782656117814138,\n",
      "    \"evaluation_time\": 73.43,\n",
      "    \"f1\": 0.7940375254626659,\n",
      "    \"f1_stderr\": 0.00891542230698871,\n",
      "    \"main_score\": 0.8006168831168832\n",
      "  }\n",
      "}\n"
     ]
    }
   ],
   "source": [
    "import json\n",
    "\n",
    "\n",
    "with open(f\"results/BAAI/bge-small-en/Banking77Classification.json\") as f:\n",
    "    print(f.name)\n",
    "    print(json.dumps(json.load(f), indent=2))\n",
    "    \n",
    "with open(f\"results/sentence-transformers/all-MiniLM-L6-v2/Banking77Classification.json\") as f:\n",
    "    print(f.name)\n",
    "    print(json.dumps(json.load(f), indent=2))"
   ]
  },
  {
   "cell_type": "code",
   "execution_count": null,
   "id": "ed182417-43c1-432c-b356-1b8143565391",
   "metadata": {},
   "outputs": [],
   "source": []
  }
 ],
 "metadata": {
  "kernelspec": {
   "display_name": "Python 3 (ipykernel)",
   "language": "python",
   "name": "python3"
  },
  "language_info": {
   "codemirror_mode": {
    "name": "ipython",
    "version": 3
   },
   "file_extension": ".py",
   "mimetype": "text/x-python",
   "name": "python",
   "nbconvert_exporter": "python",
   "pygments_lexer": "ipython3",
   "version": "3.11.6"
  }
 },
 "nbformat": 4,
 "nbformat_minor": 5
}
